{
  "cells": [
    {
      "cell_type": "markdown",
      "metadata": {
        "id": "view-in-github",
        "colab_type": "text"
      },
      "source": [
        "<a href=\"https://colab.research.google.com/github/oswvillar2202/programacion-estadistica-r/blob/master/MedidasEstadisticasNo_2.ipynb\" target=\"_parent\"><img src=\"https://colab.research.google.com/assets/colab-badge.svg\" alt=\"Open In Colab\"/></a>"
      ]
    },
    {
      "cell_type": "markdown",
      "id": "89fe3547-9e25-4f77-86c7-6501f5bfaef8",
      "metadata": {
        "id": "89fe3547-9e25-4f77-86c7-6501f5bfaef8"
      },
      "source": [
        "<h1> Clase en vivo No. 2 del curso</h1>\n",
        "<ul>\n",
        "    <li> Media</li>\n",
        "    <li> Mediana</li>\n",
        "    <li> Moda</li>\n",
        "    <li> Tablas de frecuencia</li>\n",
        "</ul>"
      ]
    },
    {
      "cell_type": "markdown",
      "id": "0b60e0a2-cf3d-4cc7-80ea-a661231775e1",
      "metadata": {
        "id": "0b60e0a2-cf3d-4cc7-80ea-a661231775e1"
      },
      "source": [
        "<h1>Media</h1>\n",
        "Este código calcula la media de los números en la lista numeros sumando todos los elementos y dividiendo por la cantidad de elementos en la lista."
      ]
    },
    {
      "cell_type": "code",
      "execution_count": null,
      "id": "e3c3ee59-9fb2-45b4-b201-54dd4b8467e8",
      "metadata": {
        "id": "e3c3ee59-9fb2-45b4-b201-54dd4b8467e8",
        "outputId": "fc2b4a25-6f35-4309-975e-bf507e638cfa"
      },
      "outputs": [
        {
          "name": "stdout",
          "output_type": "stream",
          "text": [
            "La media es: 30.0\n"
          ]
        }
      ],
      "source": [
        "# Lista de números\n",
        "numeros = [10, 20, 30, 40, 50]\n",
        "\n",
        "# Calcular la media\n",
        "media = sum(numeros) / len(numeros)\n",
        "\n",
        "# Mostrar el resultado\n",
        "print(\"La media es:\", media)"
      ]
    },
    {
      "cell_type": "raw",
      "id": "93018269-ec81-4bb9-9d3e-c8e8961b12b4",
      "metadata": {
        "id": "93018269-ec81-4bb9-9d3e-c8e8961b12b4"
      },
      "source": [
        "Utilizando numpy"
      ]
    },
    {
      "cell_type": "code",
      "execution_count": null,
      "id": "4f788cbb-ae5f-4fc6-9d16-bcd1a451a1c5",
      "metadata": {
        "id": "4f788cbb-ae5f-4fc6-9d16-bcd1a451a1c5",
        "outputId": "2547e2c6-8c03-4c4c-c0dd-53340ea9e3e8"
      },
      "outputs": [
        {
          "name": "stdout",
          "output_type": "stream",
          "text": [
            "La media es: 30.0\n"
          ]
        }
      ],
      "source": [
        "import numpy as np\n",
        "\n",
        "# Lista de números\n",
        "numeros = [10, 20, 30, 40, 50]\n",
        "\n",
        "# Calcular la media usando numpy\n",
        "media = np.mean(numeros)\n",
        "\n",
        "# Mostrar el resultado\n",
        "print(\"La media es:\", media)"
      ]
    },
    {
      "cell_type": "markdown",
      "id": "9dc1d062-7b1c-44d6-9f6e-d537070cb383",
      "metadata": {
        "id": "9dc1d062-7b1c-44d6-9f6e-d537070cb383"
      },
      "source": [
        "<h2>Mediana</h2>\n",
        "<p>\n",
        "La mediana es el valor que separa la mitad superior de un conjunto de datos de la mitad inferior. Si el conjunto de datos tiene un número impar de observaciones, la mediana es el valor del medio. Si el conjunto de datos tiene un número par de observaciones, la mediana es el promedio de los dos valores del medio</p>."
      ]
    },
    {
      "cell_type": "code",
      "execution_count": null,
      "id": "445366b3-96e7-4be9-96c9-1ad5893652a0",
      "metadata": {
        "id": "445366b3-96e7-4be9-96c9-1ad5893652a0",
        "outputId": "525532f9-74d9-49d7-abc6-804c63243eeb"
      },
      "outputs": [
        {
          "name": "stdout",
          "output_type": "stream",
          "text": [
            "La mediana es: 45.0\n"
          ]
        }
      ],
      "source": [
        "import numpy as np\n",
        "\n",
        "# Lista de números\n",
        "numeros = [80, 20, 30, 40, 50, 60, 70, 10]\n",
        "\n",
        "# Calcular la mediana usando numpy\n",
        "mediana = np.median(numeros)\n",
        "\n",
        "# Mostrar el resultado\n",
        "print(\"La mediana es:\", mediana)"
      ]
    },
    {
      "cell_type": "markdown",
      "id": "25f36c6e-e05b-4271-ba4f-863ffbc9c467",
      "metadata": {
        "id": "25f36c6e-e05b-4271-ba4f-863ffbc9c467"
      },
      "source": [
        "<h1>Moda</h1>\n",
        "La moda es el valor que aparece con más frecuencia en un conjunto de datos. Si no hay un valor que se repita, se puede decir que no hay moda. En el caso de múltiples valores que se repiten con la misma frecuencia máxima, el conjunto de datos es multimodal."
      ]
    },
    {
      "cell_type": "code",
      "execution_count": null,
      "id": "5c3f0625-0a62-4aff-a46f-2800f9f4f722",
      "metadata": {
        "id": "5c3f0625-0a62-4aff-a46f-2800f9f4f722",
        "outputId": "3e4c752d-a82c-4d8e-d004-0b9ef45bd726"
      },
      "outputs": [
        {
          "name": "stdout",
          "output_type": "stream",
          "text": [
            "La moda es: 20\n",
            "ModeResult(mode=20, count=3)\n"
          ]
        }
      ],
      "source": [
        "from scipy import stats\n",
        "# Lista de números\n",
        "numeros = [10, 20, 20, 20, 40, 50, 50, 50]\n",
        "\n",
        "# Calcular la moda usando scipy\n",
        "moda = stats.mode(numeros)\n",
        "\n",
        "print(\"La moda es:\", moda[0])\n",
        "print(moda)"
      ]
    },
    {
      "cell_type": "markdown",
      "id": "6437f711-bb5a-48b0-b6ad-5901d849a4d5",
      "metadata": {
        "id": "6437f711-bb5a-48b0-b6ad-5901d849a4d5"
      },
      "source": [
        "<h1>Tabla de frecuencias</h1>\n",
        "Una tabla de frecuencia muestra la cantidad de veces que cada valor aparece en un conjunto de datos."
      ]
    },
    {
      "cell_type": "code",
      "execution_count": null,
      "id": "d6f52444-13ff-4f17-994c-04900428103b",
      "metadata": {
        "id": "d6f52444-13ff-4f17-994c-04900428103b",
        "outputId": "b68910a3-1b9a-4945-f47a-a6af1237fe65"
      },
      "outputs": [
        {
          "name": "stdout",
          "output_type": "stream",
          "text": [
            "   Calificación  Frecuencia Absoluta\n",
            "0             5                    1\n",
            "1             6                    2\n",
            "2             7                    4\n",
            "3             8                    4\n",
            "4             9                    3\n",
            "5            10                    4\n"
          ]
        }
      ],
      "source": [
        "import pandas as pd\n",
        "\n",
        "# Lista de calificaciones\n",
        "calificaciones = [10, 9, 10, 8, 7, 8, 9, 6, 7, 10, 8, 7, 8, 9, 7, 6, 5, 10]\n",
        "\n",
        "# Crear un DataFrame a partir de la lista\n",
        "df = pd.DataFrame(calificaciones, columns=['Calificaciones'])\n",
        "\n",
        "\n",
        "# Calcular la frecuencia absoluta\n",
        "frecuencia_absoluta = df['Calificaciones'].value_counts().sort_index()\n",
        "\n",
        "# Convertir a DataFrame para una presentación tabular\n",
        "tabla_frecuencia = frecuencia_absoluta.reset_index()\n",
        "tabla_frecuencia.columns = ['Calificación', 'Frecuencia Absoluta']\n",
        "\n",
        "# Mostrar la tabla de frecuencia\n",
        "print(tabla_frecuencia)\n",
        "\n"
      ]
    },
    {
      "cell_type": "markdown",
      "id": "2b0d10c8-e937-43e5-837d-94f25f88f885",
      "metadata": {
        "id": "2b0d10c8-e937-43e5-837d-94f25f88f885"
      },
      "source": [
        "<h2> Frecuencia relativa</h2>"
      ]
    },
    {
      "cell_type": "code",
      "execution_count": null,
      "id": "33b37b89-dbf3-432d-9368-e23de90c8c84",
      "metadata": {
        "id": "33b37b89-dbf3-432d-9368-e23de90c8c84",
        "outputId": "2bba33b2-6f7d-4117-974c-a6440186fbf7"
      },
      "outputs": [
        {
          "name": "stdout",
          "output_type": "stream",
          "text": [
            "   Calificación  Frecuencia Absoluta  Frecuencia Relativa\n",
            "0             5                    1             0.055556\n",
            "1             6                    2             0.111111\n",
            "2             7                    4             0.222222\n",
            "3             8                    4             0.222222\n",
            "4             9                    3             0.166667\n",
            "5            10                    4             0.222222\n"
          ]
        }
      ],
      "source": [
        "import pandas as pd\n",
        "\n",
        "# Lista de calificaciones\n",
        "calificaciones = [10, 9, 10, 8, 7, 8, 9, 6, 7, 10, 8, 7, 8, 9, 7, 6, 5, 10]\n",
        "\n",
        "# Crear un DataFrame a partir de la lista\n",
        "df = pd.DataFrame(calificaciones, columns=['Calificaciones'])\n",
        "\n",
        "# Calcular la frecuencia absoluta\n",
        "frecuencia_absoluta = df['Calificaciones'].value_counts().sort_index()\n",
        "\n",
        "# Calcular la frecuencia relativa\n",
        "frecuencia_relativa = frecuencia_absoluta / frecuencia_absoluta.sum()\n",
        "\n",
        "# Convertir a DataFrame para una presentación tabular\n",
        "tabla_frecuencia = pd.DataFrame({\n",
        "    'Calificación': frecuencia_absoluta.index,\n",
        "    'Frecuencia Absoluta': frecuencia_absoluta.values,\n",
        "    'Frecuencia Relativa': frecuencia_relativa.values\n",
        "})\n",
        "\n",
        "# Mostrar la tabla de frecuencia\n",
        "print(tabla_frecuencia)"
      ]
    },
    {
      "cell_type": "markdown",
      "id": "1c448630-c67b-43eb-9d6d-27c13d271f1c",
      "metadata": {
        "id": "1c448630-c67b-43eb-9d6d-27c13d271f1c"
      },
      "source": [
        "<h1> Gráfica de frecuencia</h1>"
      ]
    },
    {
      "cell_type": "code",
      "execution_count": null,
      "id": "1bf2cedc-8bc9-4030-a588-70461bbffc72",
      "metadata": {
        "id": "1bf2cedc-8bc9-4030-a588-70461bbffc72",
        "outputId": "42bd6cfb-50fe-492c-c6e8-776c53f85f5d"
      },
      "outputs": [
        {
          "data": {
            "image/png": "[encoded data removed]",
            "text/plain": [
              "<Figure size 1000x600 with 1 Axes>"
            ]
          },
          "metadata": {},
          "output_type": "display_data"
        }
      ],
      "source": [
        "import pandas as pd\n",
        "import matplotlib.pyplot as plt\n",
        "\n",
        "# Lista de calificaciones\n",
        "calificaciones = [10, 9, 10, 8, 7, 8, 9, 6, 7, 10, 8, 7, 8, 9, 7, 6, 5, 10]\n",
        "\n",
        "# Crear un DataFrame a partir de la lista\n",
        "df = pd.DataFrame(calificaciones, columns=['Calificaciones'])\n",
        "\n",
        "# Calcular la frecuencia absoluta\n",
        "frecuencia_absoluta = df['Calificaciones'].value_counts().sort_index()\n",
        "\n",
        "# Crear la gráfica de barras\n",
        "plt.figure(figsize=(10, 6))\n",
        "plt.bar(frecuencia_absoluta.index, frecuencia_absoluta.values, color='skyblue', edgecolor='black')\n",
        "\n",
        "# Etiquetas y título\n",
        "plt.xlabel('Calificaciones')\n",
        "plt.ylabel('Frecuencia Absoluta')\n",
        "plt.title('Gráfica de Frecuencia Absoluta de Calificaciones')\n",
        "plt.xticks(frecuencia_absoluta.index)  # Asegura que todos los valores del eje x estén etiquetados\n",
        "\n",
        "# Mostrar la gráfica\n",
        "plt.show()"
      ]
    },
    {
      "cell_type": "code",
      "execution_count": null,
      "id": "f71f6072-bb68-4364-a539-41632093a724",
      "metadata": {
        "id": "f71f6072-bb68-4364-a539-41632093a724"
      },
      "outputs": [],
      "source": []
    }
  ],
  "metadata": {
    "kernelspec": {
      "display_name": "Python 3 (ipykernel)",
      "language": "python",
      "name": "python3"
    },
    "language_info": {
      "codemirror_mode": {
        "name": "ipython",
        "version": 3
      },
      "file_extension": ".py",
      "mimetype": "text/x-python",
      "name": "python",
      "nbconvert_exporter": "python",
      "pygments_lexer": "ipython3",
      "version": "3.11.7"
    },
    "colab": {
      "provenance": [],
      "include_colab_link": true
    }
  },
  "nbformat": 4,
  "nbformat_minor": 5
}